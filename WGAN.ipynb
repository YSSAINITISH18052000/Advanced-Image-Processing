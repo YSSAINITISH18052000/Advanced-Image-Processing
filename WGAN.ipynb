{
  "nbformat": 4,
  "nbformat_minor": 0,
  "metadata": {
    "colab": {
      "provenance": [],
      "gpuType": "T4"
    },
    "kernelspec": {
      "name": "python3",
      "display_name": "Python 3"
    },
    "language_info": {
      "name": "python"
    },
    "gpuClass": "standard"
  },
  "cells": [
    {
      "cell_type": "code",
      "execution_count": 2,
      "metadata": {
        "id": "Ns8AXYpUHuLy"
      },
      "outputs": [],
      "source": [
        "import torch\n",
        "import torch.nn.utils as nn_utils\n",
        "import torch.nn as nn\n",
        "import torch.optim as optim\n",
        "from torchvision import datasets, transforms\n",
        "from torch.utils.data import DataLoader\n",
        "import matplotlib.pyplot as plt\n",
        "import numpy as np\n",
        "\n",
        "#import mkdirs\n",
        "import os\n",
        "import cv2\n",
        "import numpy as np\n",
        "# from pytorch_fid import fid_score\n",
        "from torchvision.models import inception_v3"
      ]
    },
    {
      "cell_type": "code",
      "source": [
        "from google.colab import drive\n",
        "drive.mount('/content/drive')"
      ],
      "metadata": {
        "colab": {
          "base_uri": "https://localhost:8080/"
        },
        "id": "_kZ_bFWzP7S9",
        "outputId": "c59fd2f3-0e41-4548-bbae-abbf365597d0"
      },
      "execution_count": 3,
      "outputs": [
        {
          "output_type": "stream",
          "name": "stdout",
          "text": [
            "Mounted at /content/drive\n"
          ]
        }
      ]
    },
    {
      "cell_type": "code",
      "source": [
        "# Define generator and discriminator\n",
        "class Generator(nn.Module):\n",
        "    def __init__(self, latent_dim, img_dim):\n",
        "        super(Generator, self).__init__()\n",
        "        self.gen = nn.Sequential(\n",
        "            nn_utils.weight_norm(nn.Linear(latent_dim, 128)),\n",
        "            nn.ReLU(),\n",
        "            nn_utils.weight_norm(nn.Linear(128, img_dim)),\n",
        "            nn.Tanh(),\n",
        "        )\n",
        "\n",
        "    def forward(self, x):\n",
        "        return self.gen(x)"
      ],
      "metadata": {
        "id": "vbHmZUDTIbRt"
      },
      "execution_count": 4,
      "outputs": []
    },
    {
      "cell_type": "code",
      "source": [
        "class Discriminator(nn.Module):\n",
        "    def __init__(self, img_dim):\n",
        "        super(Discriminator, self).__init__()\n",
        "        self.disc = nn.Sequential(\n",
        "            nn_utils.weight_norm(nn.Linear(img_dim, 256)), # Increased from 128 to 256\n",
        "            nn.ReLU(),\n",
        "            nn_utils.weight_norm(nn.Linear(256, 256)), # Added an extra layer\n",
        "            nn.ReLU(),\n",
        "            nn_utils.weight_norm(nn.Linear(256, 1)),\n",
        "        )\n",
        "\n",
        "    def forward(self, x):\n",
        "        return self.disc(x)\n",
        "def init_weights(m):\n",
        "        if type(m) == nn.Linear:\n",
        "            torch.nn.init.xavier_uniform_(m.weight)\n",
        "            m.bias.data.fill_(0.01)"
      ],
      "metadata": {
        "id": "dED0VwL7IfiU"
      },
      "execution_count": 5,
      "outputs": []
    },
    {
      "cell_type": "code",
      "source": [
        "# Define the file path to store the results\n",
        "data_path = '/content/drive/MyDrive/AIP_Course_project/Exes/WGAN_Base/'"
      ],
      "metadata": {
        "id": "eyQowlSuQZrd"
      },
      "execution_count": 6,
      "outputs": []
    },
    {
      "cell_type": "code",
      "source": [
        "#create folder to save generated images\n",
        "os.makedirs(data_path, exist_ok=True)"
      ],
      "metadata": {
        "id": "mXm9QibBJCnB"
      },
      "execution_count": 7,
      "outputs": []
    },
    {
      "cell_type": "code",
      "source": [
        "# Hyperparameters\n",
        "lr = 0.00005\n",
        "batch_size = 64\n",
        "latent_dim = 128\n",
        "img_dim = 28 * 28\n",
        "epochs = 300\n",
        "lmbda = 10\n",
        "gradient_clip_value = 0.1\n",
        "\n",
        "# Data Loader\n",
        "transform = transforms.Compose([transforms.ToTensor(), transforms.Normalize([0.5], [0.5])])\n",
        "dataset = datasets.MNIST(\"data\", transform=transform, download=True)\n",
        "dataloader = DataLoader(dataset, batch_size=batch_size, shuffle=True)\n",
        "\n",
        "# Initialize models and optimizers\n",
        "device = torch.device(\"cuda\" if torch.cuda.is_available() else \"cpu\")\n",
        "generator = Generator(latent_dim, img_dim).to(device)\n",
        "discriminator = Discriminator(img_dim).to(device)\n",
        "optimizer_G = optim.RMSprop(generator.parameters(), lr=lr)\n",
        "optimizer_D = optim.RMSprop(discriminator.parameters(), lr=lr)\n",
        "generator.apply(init_weights)\n",
        "discriminator.apply(init_weights)"
      ],
      "metadata": {
        "id": "XkruwH8oOR9R",
        "colab": {
          "base_uri": "https://localhost:8080/"
        },
        "outputId": "0d9c29a6-17c5-4eca-f955-47ba0421116f"
      },
      "execution_count": 8,
      "outputs": [
        {
          "output_type": "stream",
          "name": "stdout",
          "text": [
            "Downloading http://yann.lecun.com/exdb/mnist/train-images-idx3-ubyte.gz\n",
            "Downloading http://yann.lecun.com/exdb/mnist/train-images-idx3-ubyte.gz to data/MNIST/raw/train-images-idx3-ubyte.gz\n"
          ]
        },
        {
          "output_type": "stream",
          "name": "stderr",
          "text": [
            "100%|██████████| 9912422/9912422 [00:00<00:00, 96558357.28it/s]\n"
          ]
        },
        {
          "output_type": "stream",
          "name": "stdout",
          "text": [
            "Extracting data/MNIST/raw/train-images-idx3-ubyte.gz to data/MNIST/raw\n",
            "\n",
            "Downloading http://yann.lecun.com/exdb/mnist/train-labels-idx1-ubyte.gz\n",
            "Downloading http://yann.lecun.com/exdb/mnist/train-labels-idx1-ubyte.gz to data/MNIST/raw/train-labels-idx1-ubyte.gz\n"
          ]
        },
        {
          "output_type": "stream",
          "name": "stderr",
          "text": [
            "100%|██████████| 28881/28881 [00:00<00:00, 23331219.92it/s]\n"
          ]
        },
        {
          "output_type": "stream",
          "name": "stdout",
          "text": [
            "Extracting data/MNIST/raw/train-labels-idx1-ubyte.gz to data/MNIST/raw\n",
            "\n",
            "Downloading http://yann.lecun.com/exdb/mnist/t10k-images-idx3-ubyte.gz\n",
            "Downloading http://yann.lecun.com/exdb/mnist/t10k-images-idx3-ubyte.gz to data/MNIST/raw/t10k-images-idx3-ubyte.gz\n"
          ]
        },
        {
          "output_type": "stream",
          "name": "stderr",
          "text": [
            "100%|██████████| 1648877/1648877 [00:00<00:00, 59872663.81it/s]"
          ]
        },
        {
          "output_type": "stream",
          "name": "stdout",
          "text": [
            "Extracting data/MNIST/raw/t10k-images-idx3-ubyte.gz to data/MNIST/raw\n"
          ]
        },
        {
          "output_type": "stream",
          "name": "stderr",
          "text": [
            "\n"
          ]
        },
        {
          "output_type": "stream",
          "name": "stdout",
          "text": [
            "\n",
            "Downloading http://yann.lecun.com/exdb/mnist/t10k-labels-idx1-ubyte.gz\n",
            "Downloading http://yann.lecun.com/exdb/mnist/t10k-labels-idx1-ubyte.gz to data/MNIST/raw/t10k-labels-idx1-ubyte.gz\n"
          ]
        },
        {
          "output_type": "stream",
          "name": "stderr",
          "text": [
            "100%|██████████| 4542/4542 [00:00<00:00, 21096931.08it/s]"
          ]
        },
        {
          "output_type": "stream",
          "name": "stdout",
          "text": [
            "Extracting data/MNIST/raw/t10k-labels-idx1-ubyte.gz to data/MNIST/raw\n",
            "\n"
          ]
        },
        {
          "output_type": "stream",
          "name": "stderr",
          "text": [
            "\n"
          ]
        },
        {
          "output_type": "execute_result",
          "data": {
            "text/plain": [
              "Discriminator(\n",
              "  (disc): Sequential(\n",
              "    (0): Linear(in_features=784, out_features=256, bias=True)\n",
              "    (1): ReLU()\n",
              "    (2): Linear(in_features=256, out_features=256, bias=True)\n",
              "    (3): ReLU()\n",
              "    (4): Linear(in_features=256, out_features=1, bias=True)\n",
              "  )\n",
              ")"
            ]
          },
          "metadata": {},
          "execution_count": 8
        }
      ]
    },
    {
      "cell_type": "code",
      "source": [
        "\n",
        "def plot_images(real_imgs, fake_imgs, epoch):\n",
        "    fig, axs = plt.subplots(2, 5, figsize=(10, 4))\n",
        "    \n",
        "    for i in range(5):\n",
        "        axs[0, i].imshow(real_imgs[i].cpu().numpy().reshape(28, 28), cmap='gray')\n",
        "        axs[0, i].axis('off')\n",
        "        axs[1, i].imshow(fake_imgs[i].cpu().numpy().reshape(28, 28), cmap='gray')\n",
        "        axs[1, i].axis('off')\n",
        "\n",
        "    plt.suptitle(f\"Epoch {epoch}\")\n",
        "    plt.tight_layout()\n",
        "    img_dir = data_path\n",
        "    if not os.path.exists(img_dir):\n",
        "        os.makedirs(img_dir)\n",
        "    plt.savefig(f\"{img_dir}/epoch_{epoch}.png\")\n",
        "    plt.close(fig)\n",
        "\n",
        "def plot_loss(Y1,Y2):\n",
        "    \n",
        "    # print(Y2.type())\n",
        "    X = np.linspace(0, 93800, 469000)\n",
        "    # Plot Y1 vs X and Y2 vs X on the same plot\n",
        "    plt.plot(X, Y1, label='Critic Loss')\n",
        "    X = np.linspace(0, 93800, 93800)\n",
        "    plt.plot(X, Y2, label='Generator Loss')\n",
        "\n",
        "    # Add labels and legend to the plot\n",
        "    plt.xlabel('No.iterations')\n",
        "    plt.ylabel('Loss')\n",
        "    plt.title('Generator and Discrimainator Loss plot')\n",
        "    plt.legend()\n",
        "    # Display the plot\n",
        "    plt.show()"
      ],
      "metadata": {
        "id": "r0dyXXFKOpdr"
      },
      "execution_count": 9,
      "outputs": []
    },
    {
      "cell_type": "code",
      "source": [
        "loss1 = []\n",
        "loss2 = []\n",
        "discriminator_iters=5\n",
        "import math\n",
        "FID_Sccore=[]\n",
        "# Training loop\n",
        "for epoch in range(epochs):\n",
        "        for batch_idx, (real_imgs, _) in enumerate(dataloader):\n",
        "            realimgsfid=real_imgs\n",
        "            real_imgs = real_imgs.view(-1, img_dim).to(device)\n",
        "            batch_size = real_imgs.shape[0]\n",
        "            # Train Discriminator\n",
        "            for _ in range(discriminator_iters):\n",
        "                optimizer_D.zero_grad()\n",
        "                z = torch.randn(batch_size, latent_dim).to(device)\n",
        "                fake_imgs = generator(z)\n",
        "                D_real = discriminator(real_imgs)\n",
        "                D_fake = discriminator(fake_imgs)\n",
        "                #print(D_real.shape, D_fake.shape)\n",
        "                real_imgs.requires_grad = True\n",
        "                alpha = torch.rand(batch_size, 1).to(device)\n",
        "                interpolates = (alpha * real_imgs + (1 - alpha) * fake_imgs).requires_grad_(True).to(device)\n",
        "                D_interpolates = discriminator(interpolates)\n",
        "                fake_gradients = torch.autograd.grad(outputs=D_interpolates, inputs=interpolates,\n",
        "                                                    grad_outputs=torch.ones_like(D_interpolates),\n",
        "                                                    create_graph=True, retain_graph=True, only_inputs=True)[0]\n",
        "                gradient_v1 = ((fake_gradients.norm(2, dim=1) - 1) ** 2).mean()\n",
        "                #gradient_penalty=0\n",
        "                #gradient_penalty = ((discriminator(real_imgs) - D_real).pow(2).sum(1).sqrt() - 1).pow(2).mean()\n",
        "                #print(f\"Epoch [{epoch + 1}/{epochs}] Batch {batch_idx}/{len(dataloader)} Gradient Penalty: {gradient_penalty.item():.4f}\")\n",
        "                real_imgs.requires_grad = False          \n",
        "                loss_D = -(torch.mean(D_real) - torch.mean(D_fake) - lmbda * gradient_v1)\n",
        "                loss1.append(loss_D.cpu().detach().numpy())\n",
        "                #print(f\"Epoch [{epoch + 1}/{epochs}] Batch {batch_idx}/{len(dataloader)} Loss D: {loss_D.item():.4f}\")\n",
        "                loss_D.backward()\n",
        "                nn.utils.clip_grad_norm_(discriminator.parameters(), gradient_clip_value)\n",
        "                optimizer_D.step()\n",
        "            # Train Generator\n",
        "            if batch_idx % 1 == 0:\n",
        "                optimizer_G.zero_grad()\n",
        "                z = torch.randn(batch_size, latent_dim).to(device)\n",
        "                fake_imgs = generator(z)\n",
        "                D_fake = discriminator(fake_imgs)\n",
        "                loss_G = -torch.mean(D_fake)\n",
        "                loss2.append(loss_G.cpu().detach().numpy())\n",
        "                loss_G.backward()\n",
        "                #nn.utils.clip_grad_norm_(generator.parameters(), gradient_clip_value)\n",
        "                optimizer_G.step()  \n",
        "        print(f\"Epoch [{epoch + 1}/{epochs}] Loss D: {loss_D.item():.4f}, Loss G: {loss_G.item():.4f}\")\n",
        "        #visualize_generated_images(epoch + 1, generator, latent_dim, img_dim, device)\n",
        "        with torch.no_grad():\n",
        "                z = torch.randn(5, latent_dim).to(device)\n",
        "                fake_imgs = generator(z)\n",
        "                plot_images(real_imgs[:9], fake_imgs, epoch + 1)\n",
        "        \n",
        "        \n",
        "\n",
        "#save model\n",
        "torch.save(generator.state_dict(), '/content/drive/MyDrive/generator100.pth')\n",
        "torch.save(discriminator.state_dict(), '/content/drive/MyDrive/discriminator100.pth')\n",
        "\n"
      ],
      "metadata": {
        "id": "5CwFbT8HOx9i",
        "colab": {
          "base_uri": "https://localhost:8080/"
        },
        "outputId": "5656499d-4518-40fd-cec3-19a48fb56337"
      },
      "execution_count": null,
      "outputs": [
        {
          "output_type": "stream",
          "name": "stdout",
          "text": [
            "Epoch [1/300] Loss D: -10.3308, Loss G: -11.4083\n",
            "Epoch [2/300] Loss D: -8.1712, Loss G: -7.2371\n",
            "Epoch [3/300] Loss D: -6.0987, Loss G: -7.2905\n",
            "Epoch [4/300] Loss D: -5.2225, Loss G: -8.4794\n",
            "Epoch [5/300] Loss D: -4.6784, Loss G: -7.8706\n",
            "Epoch [6/300] Loss D: -4.0373, Loss G: -8.9758\n",
            "Epoch [7/300] Loss D: -4.0235, Loss G: -8.0638\n",
            "Epoch [8/300] Loss D: -4.0820, Loss G: -8.7102\n",
            "Epoch [9/300] Loss D: -4.1405, Loss G: -7.8567\n",
            "Epoch [10/300] Loss D: -3.8915, Loss G: -5.5677\n",
            "Epoch [11/300] Loss D: -3.4987, Loss G: -5.7782\n",
            "Epoch [12/300] Loss D: -4.4174, Loss G: -3.8608\n",
            "Epoch [13/300] Loss D: -4.7863, Loss G: -4.3762\n",
            "Epoch [14/300] Loss D: -4.4385, Loss G: -4.1581\n",
            "Epoch [15/300] Loss D: -3.8996, Loss G: -3.5273\n",
            "Epoch [16/300] Loss D: -4.5733, Loss G: -2.8810\n",
            "Epoch [17/300] Loss D: -5.4014, Loss G: -2.3631\n",
            "Epoch [18/300] Loss D: -5.0190, Loss G: -2.2893\n",
            "Epoch [19/300] Loss D: -4.1703, Loss G: -2.7385\n",
            "Epoch [20/300] Loss D: -4.7392, Loss G: -1.6317\n",
            "Epoch [21/300] Loss D: -5.2997, Loss G: -1.3890\n",
            "Epoch [22/300] Loss D: -4.7248, Loss G: -1.9128\n",
            "Epoch [23/300] Loss D: -3.9337, Loss G: -2.3109\n",
            "Epoch [24/300] Loss D: -3.5570, Loss G: -1.7592\n",
            "Epoch [25/300] Loss D: -5.1855, Loss G: -2.4890\n",
            "Epoch [26/300] Loss D: -4.7614, Loss G: -2.5613\n",
            "Epoch [27/300] Loss D: -5.6370, Loss G: -2.7138\n",
            "Epoch [28/300] Loss D: -4.0285, Loss G: -2.5434\n",
            "Epoch [29/300] Loss D: -3.6580, Loss G: -3.3962\n",
            "Epoch [30/300] Loss D: -4.0767, Loss G: -2.2433\n",
            "Epoch [31/300] Loss D: -4.5947, Loss G: -2.6648\n",
            "Epoch [32/300] Loss D: -4.3718, Loss G: -3.1491\n",
            "Epoch [33/300] Loss D: -4.5757, Loss G: -3.9461\n",
            "Epoch [34/300] Loss D: -4.0809, Loss G: -2.5301\n",
            "Epoch [35/300] Loss D: -5.0463, Loss G: -2.8153\n",
            "Epoch [36/300] Loss D: -4.6704, Loss G: -2.8469\n",
            "Epoch [37/300] Loss D: -4.1001, Loss G: -3.0485\n",
            "Epoch [38/300] Loss D: -4.5253, Loss G: -3.0545\n",
            "Epoch [39/300] Loss D: -4.3357, Loss G: -2.3585\n",
            "Epoch [40/300] Loss D: -4.0799, Loss G: -2.3655\n",
            "Epoch [41/300] Loss D: -4.2537, Loss G: -2.7701\n",
            "Epoch [42/300] Loss D: -3.7420, Loss G: -2.6665\n",
            "Epoch [43/300] Loss D: -3.6731, Loss G: -2.7639\n",
            "Epoch [44/300] Loss D: -5.0680, Loss G: -2.2043\n",
            "Epoch [45/300] Loss D: -4.1724, Loss G: -2.5724\n",
            "Epoch [46/300] Loss D: -3.1383, Loss G: -2.7675\n",
            "Epoch [47/300] Loss D: -3.2188, Loss G: -2.4755\n",
            "Epoch [48/300] Loss D: -4.1505, Loss G: -2.3877\n",
            "Epoch [49/300] Loss D: -3.7601, Loss G: -2.0749\n",
            "Epoch [50/300] Loss D: -4.3250, Loss G: -2.6347\n",
            "Epoch [51/300] Loss D: -3.5912, Loss G: -1.9867\n",
            "Epoch [52/300] Loss D: -3.8765, Loss G: -2.6459\n",
            "Epoch [53/300] Loss D: -3.5506, Loss G: -2.1781\n",
            "Epoch [54/300] Loss D: -3.8992, Loss G: -2.0580\n",
            "Epoch [55/300] Loss D: -3.3242, Loss G: -1.2365\n",
            "Epoch [56/300] Loss D: -3.6482, Loss G: -2.5943\n",
            "Epoch [57/300] Loss D: -3.6364, Loss G: -2.0674\n",
            "Epoch [58/300] Loss D: -3.8031, Loss G: -2.2035\n",
            "Epoch [59/300] Loss D: -3.8214, Loss G: -1.3156\n",
            "Epoch [60/300] Loss D: -3.7651, Loss G: -1.0592\n",
            "Epoch [61/300] Loss D: -4.4557, Loss G: -2.6551\n",
            "Epoch [62/300] Loss D: -2.9647, Loss G: -1.6345\n",
            "Epoch [63/300] Loss D: -2.9175, Loss G: -1.9480\n",
            "Epoch [64/300] Loss D: -4.0458, Loss G: -1.0445\n",
            "Epoch [65/300] Loss D: -3.2169, Loss G: -1.6486\n",
            "Epoch [66/300] Loss D: -3.8342, Loss G: -1.2811\n",
            "Epoch [67/300] Loss D: -3.6244, Loss G: -1.4349\n",
            "Epoch [68/300] Loss D: -3.1261, Loss G: -1.1701\n",
            "Epoch [69/300] Loss D: -4.1086, Loss G: -0.8029\n",
            "Epoch [70/300] Loss D: -3.9384, Loss G: -1.0653\n",
            "Epoch [71/300] Loss D: -3.5479, Loss G: -0.8460\n",
            "Epoch [72/300] Loss D: -3.4916, Loss G: -0.5171\n",
            "Epoch [73/300] Loss D: -4.1283, Loss G: -0.6487\n",
            "Epoch [74/300] Loss D: -3.6590, Loss G: -0.9332\n",
            "Epoch [75/300] Loss D: -3.4563, Loss G: -1.0229\n",
            "Epoch [76/300] Loss D: -4.0755, Loss G: -0.2882\n",
            "Epoch [77/300] Loss D: -3.3354, Loss G: -0.5119\n",
            "Epoch [78/300] Loss D: -3.2151, Loss G: -0.8965\n",
            "Epoch [79/300] Loss D: -3.8090, Loss G: -0.4756\n",
            "Epoch [80/300] Loss D: -3.8235, Loss G: -0.1987\n",
            "Epoch [81/300] Loss D: -3.7804, Loss G: -0.4009\n",
            "Epoch [82/300] Loss D: -3.0118, Loss G: -0.4121\n",
            "Epoch [83/300] Loss D: -3.8583, Loss G: -0.5425\n",
            "Epoch [84/300] Loss D: -3.3910, Loss G: 0.1612\n",
            "Epoch [85/300] Loss D: -3.5048, Loss G: 0.2644\n",
            "Epoch [86/300] Loss D: -3.2203, Loss G: -0.4208\n",
            "Epoch [87/300] Loss D: -3.9667, Loss G: 0.3178\n",
            "Epoch [88/300] Loss D: -3.4414, Loss G: 0.0308\n",
            "Epoch [89/300] Loss D: -3.4613, Loss G: -0.1642\n",
            "Epoch [90/300] Loss D: -4.1885, Loss G: 0.2006\n",
            "Epoch [91/300] Loss D: -3.5959, Loss G: -0.0745\n",
            "Epoch [92/300] Loss D: -3.4525, Loss G: 0.7877\n",
            "Epoch [93/300] Loss D: -3.7009, Loss G: 0.3344\n",
            "Epoch [94/300] Loss D: -2.9557, Loss G: -0.2169\n",
            "Epoch [95/300] Loss D: -3.3010, Loss G: 0.1053\n",
            "Epoch [96/300] Loss D: -3.5647, Loss G: -0.1296\n",
            "Epoch [97/300] Loss D: -3.3830, Loss G: 0.2733\n",
            "Epoch [98/300] Loss D: -2.9638, Loss G: 0.1795\n",
            "Epoch [99/300] Loss D: -3.1163, Loss G: 0.0246\n",
            "Epoch [100/300] Loss D: -2.9238, Loss G: -0.0311\n",
            "Epoch [101/300] Loss D: -4.1450, Loss G: -0.1343\n",
            "Epoch [102/300] Loss D: -2.8759, Loss G: 0.2571\n",
            "Epoch [103/300] Loss D: -3.4109, Loss G: 0.7317\n",
            "Epoch [104/300] Loss D: -3.9226, Loss G: 0.8440\n",
            "Epoch [105/300] Loss D: -3.8865, Loss G: 0.2490\n",
            "Epoch [106/300] Loss D: -3.5009, Loss G: 0.5052\n",
            "Epoch [107/300] Loss D: -2.9523, Loss G: 1.3168\n",
            "Epoch [108/300] Loss D: -3.6925, Loss G: 0.8839\n",
            "Epoch [109/300] Loss D: -3.4067, Loss G: 0.1700\n",
            "Epoch [110/300] Loss D: -3.2417, Loss G: 0.2575\n",
            "Epoch [111/300] Loss D: -3.6077, Loss G: 0.1979\n",
            "Epoch [112/300] Loss D: -3.1050, Loss G: -0.0024\n",
            "Epoch [113/300] Loss D: -4.6669, Loss G: 1.2052\n",
            "Epoch [114/300] Loss D: -3.9298, Loss G: -0.3013\n",
            "Epoch [115/300] Loss D: -3.4219, Loss G: 0.3744\n",
            "Epoch [116/300] Loss D: -3.7840, Loss G: 1.0845\n",
            "Epoch [117/300] Loss D: -3.4901, Loss G: 0.5981\n",
            "Epoch [118/300] Loss D: -2.3557, Loss G: 0.1566\n",
            "Epoch [119/300] Loss D: -3.2186, Loss G: 0.6965\n",
            "Epoch [120/300] Loss D: -3.4951, Loss G: 1.0826\n",
            "Epoch [121/300] Loss D: -3.6918, Loss G: 0.2058\n",
            "Epoch [122/300] Loss D: -3.6357, Loss G: 0.6089\n",
            "Epoch [123/300] Loss D: -3.0009, Loss G: 0.8073\n",
            "Epoch [124/300] Loss D: -2.9813, Loss G: 0.3796\n",
            "Epoch [125/300] Loss D: -3.7385, Loss G: 0.8433\n",
            "Epoch [126/300] Loss D: -3.4629, Loss G: 0.3413\n",
            "Epoch [127/300] Loss D: -3.8379, Loss G: 0.6596\n",
            "Epoch [128/300] Loss D: -3.3211, Loss G: 1.0411\n",
            "Epoch [129/300] Loss D: -4.1767, Loss G: 0.4399\n",
            "Epoch [130/300] Loss D: -2.6758, Loss G: 1.0583\n",
            "Epoch [131/300] Loss D: -3.4106, Loss G: 0.8006\n",
            "Epoch [132/300] Loss D: -2.9044, Loss G: 0.6703\n",
            "Epoch [133/300] Loss D: -3.5058, Loss G: 0.3001\n",
            "Epoch [134/300] Loss D: -4.0830, Loss G: 0.0978\n",
            "Epoch [135/300] Loss D: -3.9094, Loss G: 0.8320\n",
            "Epoch [136/300] Loss D: -2.9125, Loss G: 1.0050\n",
            "Epoch [137/300] Loss D: -3.1250, Loss G: 0.6855\n",
            "Epoch [138/300] Loss D: -3.5796, Loss G: 0.2633\n",
            "Epoch [139/300] Loss D: -3.8900, Loss G: 0.5724\n",
            "Epoch [140/300] Loss D: -3.8358, Loss G: 0.1092\n",
            "Epoch [141/300] Loss D: -3.4620, Loss G: 1.1284\n",
            "Epoch [142/300] Loss D: -3.4925, Loss G: 0.7235\n",
            "Epoch [143/300] Loss D: -2.4334, Loss G: 1.0331\n",
            "Epoch [144/300] Loss D: -2.7448, Loss G: 0.8432\n",
            "Epoch [145/300] Loss D: -2.3754, Loss G: 0.8468\n",
            "Epoch [146/300] Loss D: -2.4786, Loss G: 0.7776\n",
            "Epoch [147/300] Loss D: -3.1192, Loss G: 0.7131\n",
            "Epoch [148/300] Loss D: -2.3664, Loss G: 1.0289\n",
            "Epoch [149/300] Loss D: -3.0342, Loss G: 0.4835\n",
            "Epoch [150/300] Loss D: -3.1757, Loss G: 0.8728\n",
            "Epoch [151/300] Loss D: -2.6684, Loss G: 0.5332\n",
            "Epoch [152/300] Loss D: -3.2038, Loss G: 0.2524\n",
            "Epoch [153/300] Loss D: -3.7592, Loss G: 0.9330\n",
            "Epoch [154/300] Loss D: -2.6202, Loss G: 0.4510\n",
            "Epoch [155/300] Loss D: -3.7464, Loss G: 0.6079\n",
            "Epoch [156/300] Loss D: -3.5414, Loss G: 0.5542\n",
            "Epoch [157/300] Loss D: -2.9059, Loss G: 0.2502\n",
            "Epoch [158/300] Loss D: -2.9583, Loss G: 0.6190\n",
            "Epoch [159/300] Loss D: -2.5793, Loss G: 0.6481\n",
            "Epoch [160/300] Loss D: -3.5263, Loss G: -0.1010\n",
            "Epoch [161/300] Loss D: -3.5502, Loss G: 0.6328\n",
            "Epoch [162/300] Loss D: -2.8409, Loss G: 0.5802\n",
            "Epoch [163/300] Loss D: -3.0942, Loss G: 0.8164\n",
            "Epoch [164/300] Loss D: -3.5813, Loss G: 0.7207\n",
            "Epoch [165/300] Loss D: -3.3750, Loss G: 0.5246\n",
            "Epoch [166/300] Loss D: -3.1256, Loss G: 0.7397\n",
            "Epoch [167/300] Loss D: -3.3203, Loss G: 0.9715\n",
            "Epoch [168/300] Loss D: -2.8372, Loss G: 0.9848\n",
            "Epoch [169/300] Loss D: -2.5940, Loss G: 0.5673\n",
            "Epoch [170/300] Loss D: -3.3145, Loss G: 0.7357\n",
            "Epoch [171/300] Loss D: -2.4409, Loss G: 0.7862\n",
            "Epoch [172/300] Loss D: -3.2037, Loss G: 0.3225\n",
            "Epoch [173/300] Loss D: -3.5294, Loss G: 0.2699\n",
            "Epoch [174/300] Loss D: -3.2216, Loss G: 0.9149\n",
            "Epoch [175/300] Loss D: -2.6825, Loss G: 0.8317\n",
            "Epoch [176/300] Loss D: -3.2589, Loss G: 0.5965\n",
            "Epoch [177/300] Loss D: -2.6222, Loss G: 1.1732\n",
            "Epoch [178/300] Loss D: -3.0391, Loss G: 1.0094\n",
            "Epoch [179/300] Loss D: -2.9672, Loss G: 0.6503\n",
            "Epoch [180/300] Loss D: -2.4054, Loss G: 0.4434\n",
            "Epoch [181/300] Loss D: -2.8781, Loss G: 0.8066\n",
            "Epoch [182/300] Loss D: -3.0638, Loss G: 0.6025\n",
            "Epoch [183/300] Loss D: -4.0245, Loss G: 0.8908\n",
            "Epoch [184/300] Loss D: -2.9997, Loss G: -0.0623\n",
            "Epoch [185/300] Loss D: -3.9583, Loss G: 1.2269\n",
            "Epoch [186/300] Loss D: -3.0301, Loss G: 0.7841\n",
            "Epoch [187/300] Loss D: -3.7107, Loss G: 1.1646\n",
            "Epoch [188/300] Loss D: -2.4494, Loss G: 1.2634\n",
            "Epoch [189/300] Loss D: -3.1175, Loss G: 0.4297\n",
            "Epoch [190/300] Loss D: -3.3841, Loss G: 0.4662\n",
            "Epoch [191/300] Loss D: -3.7087, Loss G: 1.1835\n",
            "Epoch [192/300] Loss D: -2.8997, Loss G: 0.6873\n",
            "Epoch [193/300] Loss D: -2.8558, Loss G: 0.7819\n",
            "Epoch [194/300] Loss D: -3.6443, Loss G: 0.5148\n",
            "Epoch [195/300] Loss D: -3.2920, Loss G: 1.0221\n",
            "Epoch [196/300] Loss D: -2.6384, Loss G: 0.7762\n",
            "Epoch [197/300] Loss D: -2.7871, Loss G: 0.7098\n",
            "Epoch [198/300] Loss D: -3.3740, Loss G: 0.9253\n",
            "Epoch [199/300] Loss D: -3.1519, Loss G: 1.1127\n",
            "Epoch [200/300] Loss D: -2.8137, Loss G: -0.3671\n",
            "Epoch [201/300] Loss D: -3.0141, Loss G: 1.1837\n",
            "Epoch [202/300] Loss D: -2.5893, Loss G: 0.7717\n",
            "Epoch [203/300] Loss D: -3.1148, Loss G: 0.7216\n",
            "Epoch [204/300] Loss D: -3.6721, Loss G: 1.4899\n",
            "Epoch [205/300] Loss D: -3.2402, Loss G: 0.5100\n",
            "Epoch [206/300] Loss D: -2.9539, Loss G: 0.9555\n",
            "Epoch [207/300] Loss D: -3.0609, Loss G: 1.2395\n",
            "Epoch [208/300] Loss D: -2.5984, Loss G: 1.2215\n",
            "Epoch [209/300] Loss D: -3.4375, Loss G: 1.2345\n",
            "Epoch [210/300] Loss D: -2.4205, Loss G: 1.3611\n",
            "Epoch [211/300] Loss D: -2.4503, Loss G: 1.2327\n",
            "Epoch [212/300] Loss D: -3.4612, Loss G: 1.0713\n",
            "Epoch [213/300] Loss D: -3.3117, Loss G: 1.3168\n",
            "Epoch [214/300] Loss D: -2.9933, Loss G: 1.1265\n",
            "Epoch [215/300] Loss D: -2.6971, Loss G: 0.9908\n",
            "Epoch [216/300] Loss D: -2.9178, Loss G: 0.9411\n",
            "Epoch [217/300] Loss D: -2.8991, Loss G: 0.7021\n",
            "Epoch [218/300] Loss D: -3.4711, Loss G: 1.0461\n",
            "Epoch [219/300] Loss D: -2.6365, Loss G: 1.0124\n",
            "Epoch [220/300] Loss D: -3.0886, Loss G: 1.0552\n",
            "Epoch [221/300] Loss D: -3.0234, Loss G: 1.6083\n",
            "Epoch [222/300] Loss D: -3.0529, Loss G: 0.7088\n",
            "Epoch [223/300] Loss D: -3.3571, Loss G: 0.7940\n",
            "Epoch [224/300] Loss D: -2.8170, Loss G: 1.1714\n",
            "Epoch [225/300] Loss D: -2.7838, Loss G: 0.7394\n",
            "Epoch [226/300] Loss D: -2.9572, Loss G: 1.3792\n",
            "Epoch [227/300] Loss D: -2.6822, Loss G: 1.1685\n",
            "Epoch [228/300] Loss D: -2.5120, Loss G: 1.1513\n",
            "Epoch [229/300] Loss D: -2.3115, Loss G: 0.6302\n",
            "Epoch [230/300] Loss D: -2.7968, Loss G: 0.8146\n",
            "Epoch [231/300] Loss D: -3.9271, Loss G: 1.2014\n",
            "Epoch [232/300] Loss D: -3.6319, Loss G: 0.9142\n",
            "Epoch [233/300] Loss D: -4.0643, Loss G: 0.7495\n",
            "Epoch [234/300] Loss D: -2.8749, Loss G: 1.0257\n",
            "Epoch [235/300] Loss D: -3.1311, Loss G: 1.1005\n",
            "Epoch [236/300] Loss D: -2.9872, Loss G: 1.0074\n",
            "Epoch [237/300] Loss D: -3.4685, Loss G: 0.8355\n",
            "Epoch [238/300] Loss D: -2.3690, Loss G: 1.6074\n",
            "Epoch [239/300] Loss D: -3.1429, Loss G: 0.9109\n",
            "Epoch [240/300] Loss D: -4.2052, Loss G: 0.9104\n",
            "Epoch [241/300] Loss D: -3.3034, Loss G: 1.0295\n",
            "Epoch [242/300] Loss D: -3.4707, Loss G: 0.7701\n",
            "Epoch [243/300] Loss D: -3.2191, Loss G: 0.8523\n",
            "Epoch [244/300] Loss D: -2.3018, Loss G: 1.5635\n",
            "Epoch [245/300] Loss D: -2.6819, Loss G: 0.9645\n",
            "Epoch [246/300] Loss D: -3.1605, Loss G: 1.3582\n",
            "Epoch [247/300] Loss D: -3.1191, Loss G: 0.7601\n",
            "Epoch [248/300] Loss D: -3.2859, Loss G: 1.0561\n",
            "Epoch [249/300] Loss D: -2.9355, Loss G: 1.3775\n",
            "Epoch [250/300] Loss D: -2.0911, Loss G: 0.7966\n",
            "Epoch [251/300] Loss D: -2.2876, Loss G: 0.4370\n"
          ]
        }
      ]
    },
    {
      "cell_type": "code",
      "source": [
        "plot_loss(loss1,loss2)"
      ],
      "metadata": {
        "id": "bVTShWKid5Oy",
        "colab": {
          "base_uri": "https://localhost:8080/",
          "height": 472
        },
        "outputId": "351a4505-6301-49d7-9386-7b97b59462d6"
      },
      "execution_count": 34,
      "outputs": [
        {
          "output_type": "display_data",
          "data": {
            "text/plain": [
              "<Figure size 640x480 with 1 Axes>"
            ],
            "image/png": "[encoded data removed]"
          },
          "metadata": {}
        }
      ]
    },
    {
      "cell_type": "code",
      "source": [
        "print(len(loss1))"
      ],
      "metadata": {
        "colab": {
          "base_uri": "https://localhost:8080/"
        },
        "id": "jcSqXrTBgGPG",
        "outputId": "ca9cdb42-298e-4891-8377-1cd143a79888"
      },
      "execution_count": 26,
      "outputs": [
        {
          "output_type": "stream",
          "name": "stdout",
          "text": [
            "469000\n"
          ]
        }
      ]
    }
  ]
}